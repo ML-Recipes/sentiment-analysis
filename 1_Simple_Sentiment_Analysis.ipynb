{
 "cells": [
  {
   "cell_type": "markdown",
   "metadata": {},
   "source": [
    "# Simple RNN Model"
   ]
  },
  {
   "cell_type": "markdown",
   "metadata": {},
   "source": [
    "## Introduction\n",
    "In this notebokk, we will use a recurrent neural network (RNN) to determine whether a text sequence of indefinite length contains positive or negative emotion. An RNN takes a sequence of words, X = {x_1, ..., x_T} as input. At each time step, the model generates a hidden state, h, from the current input word and the previous hidden state.\n",
    "\n",
    "                        h_t = RNN(x_t, h_t-1)\n",
    "                        \n",
    "The final hidden state, h_T, will be generated from the last word in the sequence with encoded historical information from all the previous steps. Once obtaining the final state, we feed it to a dense layer (also knowns as a fully connected layer) to predict a sentiment output, Y_hat = f(h_T)."
   ]
  },
  {
   "cell_type": "code",
   "execution_count": 4,
   "metadata": {},
   "outputs": [],
   "source": [
    "# Set the randomw seed for reproducibility\n",
    "seed = 1234\n",
    "\n",
    "torch.manual_seed(seed)\n",
    "random.seed(seed)\n",
    "torch.backends.cudnn.deterministic = True\n",
    "torch.backends.cudnn.benchmark = False"
   ]
  },
  {
   "cell_type": "code",
   "execution_count": 6,
   "metadata": {},
   "outputs": [
    {
     "name": "stderr",
     "output_type": "stream",
     "text": [
      "aclImdb_v1.tar.gz: 100%|██████████| 84.1M/84.1M [07:19<00:00, 192kB/s] \n"
     ]
    }
   ],
   "source": [
    "raw_train_data, raw_test_data = torchtext.experimental.datasets.raw.IMDB()"
   ]
  },
  {
   "cell_type": "code",
   "execution_count": 7,
   "metadata": {},
   "outputs": [
    {
     "name": "stdout",
     "output_type": "stream",
     "text": [
      "<torchtext.experimental.datasets.raw.text_classification.RawTextIterableDataset object at 0x7fb0a8b5fbe0>\n"
     ]
    }
   ],
   "source": [
    "print(raw_train_data)"
   ]
  },
  {
   "cell_type": "code",
   "execution_count": 13,
   "metadata": {},
   "outputs": [],
   "source": [
    "raw_train_data = list(raw_train_data)\n",
    "raw_test_data = list(raw_test_data)"
   ]
  },
  {
   "cell_type": "code",
   "execution_count": 14,
   "metadata": {},
   "outputs": [
    {
     "name": "stdout",
     "output_type": "stream",
     "text": [
      "Number of training examples: 25,000\n",
      "Number of testing examples: 25,000\n"
     ]
    }
   ],
   "source": [
    "print(f'Number of training examples: {len(raw_train_data):,}')\n",
    "print(f'Number of testing examples: {len(raw_test_data):,}')"
   ]
  },
  {
   "cell_type": "code",
   "execution_count": 12,
   "metadata": {},
   "outputs": [
    {
     "name": "stdout",
     "output_type": "stream",
     "text": [
      "(0, 'I rented I AM CURIOUS-YELLOW from my video store because of all the controversy that surrounded it when it was first released in 1967. I also heard that at first it was seized by U.S. customs if it ever tried to enter this country, therefore being a fan of films considered \"controversial\" I really had to see this for myself.<br /><br />The plot is centered around a young Swedish drama student named Lena who wants to learn everything she can about life. In particular she wants to focus her attentions to making some sort of documentary on what the average Swede thought about certain political issues such as the Vietnam War and race issues in the United States. In between asking politicians and ordinary denizens of Stockholm about their opinions on politics, she has sex with her drama teacher, classmates, and married men.<br /><br />What kills me about I AM CURIOUS-YELLOW is that 40 years ago, this was considered pornographic. Really, the sex and nudity scenes are few and far between, even then it\\'s not shot like some cheaply made porno. While my countrymen mind find it shocking, in reality sex and nudity are a major staple in Swedish cinema. Even Ingmar Bergman, arguably their answer to good old boy John Ford, had sex scenes in his films.<br /><br />I do commend the filmmakers for the fact that any sex shown in the film is shown for artistic purposes rather than just to shock people and make money to be shown in pornographic theaters in America. I AM CURIOUS-YELLOW is a good film for anyone wanting to study the meat and potatoes (no pun intended) of Swedish cinema. But really, this film doesn\\'t have much of a plot.')\n"
     ]
    }
   ],
   "source": [
    "print(raw_train_data[0])"
   ]
  },
  {
   "cell_type": "code",
   "execution_count": 17,
   "metadata": {},
   "outputs": [],
   "source": [
    "def get_train_valid_split(raw_train_data, split_ratio = 0.7):\n",
    "    raw_train_data = list(raw_train_data)\n",
    "    random.shuffle(raw_train_data)\n",
    "    \n",
    "    n_train_examples = int(len(raw_train_data) * split_ratio)\n",
    "    \n",
    "    train_data = raw_train_data[:n_train_examples]\n",
    "    valid_data = raw_train_data[n_train_examples:]\n",
    "    \n",
    "    return train_data, valid_data "
   ]
  },
  {
   "cell_type": "code",
   "execution_count": 18,
   "metadata": {},
   "outputs": [],
   "source": [
    "raw_train_data, raw_valid_data = get_train_valid_split(raw_train_data)"
   ]
  },
  {
   "cell_type": "code",
   "execution_count": 19,
   "metadata": {},
   "outputs": [],
   "source": [
    "raw_train_data = list(raw_train_data)\n",
    "raw_valid_data = list(raw_valid_data)"
   ]
  },
  {
   "cell_type": "code",
   "execution_count": 20,
   "metadata": {},
   "outputs": [
    {
     "name": "stdout",
     "output_type": "stream",
     "text": [
      "Number of training examples: 17,500\n",
      "Number of validation examples: 7,500\n",
      "Number of testing examples: 25,000\n"
     ]
    }
   ],
   "source": [
    "print(f'Number of training examples: {len(raw_train_data):,}')\n",
    "print(f'Number of validation examples: {len(raw_valid_data):,}')\n",
    "print(f'Number of testing examples: {len(raw_test_data):,}')"
   ]
  },
  {
   "cell_type": "code",
   "execution_count": 21,
   "metadata": {},
   "outputs": [],
   "source": [
    "class Tokenizer:\n",
    "    def __init__(self, tokenize_fn='basic_english', lower=True, max_length=None):\n",
    "        self.tokenize_func = torchtext.data.utils.get_tokenizer(tokenize_fn)\n",
    "        self.lower = lower\n",
    "        self.max_length = max_length\n",
    "        \n",
    "    def tokenize(self, s):\n",
    "        tokens = self.tokenize_func(s)\n",
    "        \n",
    "        if self.lower:\n",
    "            tokens = [token.lower() for token in tokens]\n",
    "            \n",
    "        if self.max_length is not None:\n",
    "            tokens = tokens[:self.max_length]\n",
    "            \n",
    "        return tokens"
   ]
  },
  {
   "cell_type": "code",
   "execution_count": 22,
   "metadata": {},
   "outputs": [],
   "source": [
    "max_length = 500\n",
    "\n",
    "tokenizer = Tokenizer(max_length = max_length)"
   ]
  },
  {
   "cell_type": "code",
   "execution_count": 23,
   "metadata": {},
   "outputs": [
    {
     "name": "stdout",
     "output_type": "stream",
     "text": [
      "['hello', 'world', '!']\n"
     ]
    }
   ],
   "source": [
    "s = \"hello world!\"\n",
    "print(tokenizer.tokenize(s))"
   ]
  },
  {
   "cell_type": "code",
   "execution_count": 24,
   "metadata": {},
   "outputs": [
    {
     "name": "stdout",
     "output_type": "stream",
     "text": [
      "['hello', 'world!']\n"
     ]
    }
   ],
   "source": [
    "print(s.split())"
   ]
  },
  {
   "cell_type": "code",
   "execution_count": 26,
   "metadata": {},
   "outputs": [],
   "source": [
    "def build_vocab_from_data(raw_data, tokenizer, **vocab_kwargs):\n",
    "    token_freq = collections.Counter()\n",
    "    \n",
    "    for label, text in raw_data:\n",
    "        tokens = tokenizer.tokenize(text)\n",
    "        token_freq.update(tokens)\n",
    "    \n",
    "    vocab = torchtext.vocab.Vocab(token_freq, **vocab_kwargs)\n",
    "    \n",
    "    return vocab"
   ]
  },
  {
   "cell_type": "code",
   "execution_count": 27,
   "metadata": {},
   "outputs": [],
   "source": [
    "max_size = 25000\n",
    "\n",
    "vocab = build_vocab_from_data(raw_train_data, tokenizer, max_size = max_size)"
   ]
  },
  {
   "cell_type": "code",
   "execution_count": 28,
   "metadata": {},
   "outputs": [
    {
     "data": {
      "text/plain": [
       "[('the', 211890),\n",
       " ('.', 208427),\n",
       " (',', 173201),\n",
       " ('a', 103447),\n",
       " ('and', 103052),\n",
       " ('of', 91695),\n",
       " ('to', 84931),\n",
       " (\"'\", 83805),\n",
       " ('is', 67948),\n",
       " ('it', 61322),\n",
       " ('in', 58757),\n",
       " ('i', 57420),\n",
       " ('this', 49214),\n",
       " ('that', 46061),\n",
       " ('s', 38864),\n",
       " ('was', 31341),\n",
       " ('as', 29171),\n",
       " ('movie', 28776),\n",
       " ('for', 27903),\n",
       " ('with', 27680)]"
      ]
     },
     "execution_count": 28,
     "metadata": {},
     "output_type": "execute_result"
    }
   ],
   "source": [
    "vocab.freqs.most_common(20)"
   ]
  },
  {
   "cell_type": "code",
   "execution_count": 30,
   "metadata": {},
   "outputs": [
    {
     "data": {
      "text/plain": [
       "['<unk>', '<pad>', 'the', '.', ',', 'a', 'and', 'of', 'to', \"'\"]"
      ]
     },
     "execution_count": 30,
     "metadata": {},
     "output_type": "execute_result"
    }
   ],
   "source": [
    "vocab.itos[:10]"
   ]
  },
  {
   "cell_type": "code",
   "execution_count": 31,
   "metadata": {},
   "outputs": [],
   "source": [
    "def process_raw_data(raw_data, tokenizer, vocab):\n",
    "    #raw_data = [(label, text) for (label, text) in raw_data]\n",
    "    \n",
    "    text_transform = sequential_transforms(tokenizer.tokenize, \n",
    "                                           vocab_func(vocab),\n",
    "                                           totensor(dtype=torch.long))\n",
    "    \n",
    "    label_transform = sequential_transforms(totensor(dtype=torch.long))\n",
    "    \n",
    "    transforms = (label_transform, text_transform)\n",
    "    \n",
    "    dataset = TextClassificationDataset(raw_data,\n",
    "                                        vocab,\n",
    "                                        transforms)\n",
    "    \n",
    "    return dataset"
   ]
  },
  {
   "cell_type": "code",
   "execution_count": 32,
   "metadata": {},
   "outputs": [],
   "source": [
    "train_data = process_raw_data(raw_train_data, tokenizer, vocab)"
   ]
  },
  {
   "cell_type": "code",
   "execution_count": 33,
   "metadata": {},
   "outputs": [
    {
     "data": {
      "text/plain": [
       "17500"
      ]
     },
     "execution_count": 33,
     "metadata": {},
     "output_type": "execute_result"
    }
   ],
   "source": [
    "len(train_data)"
   ]
  },
  {
   "cell_type": "code",
   "execution_count": 34,
   "metadata": {},
   "outputs": [
    {
     "data": {
      "text/plain": [
       "<torchtext.experimental.datasets.text_classification.TextClassificationDataset at 0x7fb0a8a854c0>"
      ]
     },
     "execution_count": 34,
     "metadata": {},
     "output_type": "execute_result"
    }
   ],
   "source": [
    "train_data"
   ]
  },
  {
   "cell_type": "code",
   "execution_count": 36,
   "metadata": {},
   "outputs": [
    {
     "name": "stdout",
     "output_type": "stream",
     "text": [
      "tensor([  610,  8612,    10,     5,    60,   221,     6,     5,    60,     0,\n",
      "          172,     3,    32,    91,    19,     9,   330,     7,  1487,     9,\n",
      "           17,     2,    35,    13,   414,   128,     4,     6,    11,   293,\n",
      "            5,   210,     7,   116,    21,   111,   632,  1851,     7,   125,\n",
      "         1427,    18,    39,    84,    90,  2552,  1114,     4,     6,    44,\n",
      "          131,     2,  1851,     7,     2,   490,     3,    44,    10,     9,\n",
      "         6126,     9,    72,    43,     2,   428,   496,     8,   293,     2,\n",
      "          348,     7,     2,   490,     8,     2,   584,   831,   481,     3,\n",
      "            2,  4673,   111,    30,   119,  1783,     4,    35,  3138,     6,\n",
      "           35,  2349,    42,   854,    21,     5, 17557,  5565,  1586,     3,\n",
      "            2,   560,     7,    41,   174,  3138,  2038,  1996,    42,  1431,\n",
      "            8,    34,    41,  2004,  2289,     7,     2,  6375,  5693,   346,\n",
      "            0,     2,  3138,  2140,    12,     2,   348,     6,   536,     7,\n",
      "            2,  3138,  1271,     3,    14,    10,    77,     2,  1564,     7,\n",
      "            2,    23,    30,     2,    59,   592,     3,     2,  1852,     7,\n",
      "         6854,    10,  2482,     6,   265,     8,   264,     4,     2,   600,\n",
      "            7,  3138,     0,    10, 10481,     4,     6,     2,   105,     2,\n",
      "         1271,   851,  2341,     8,     2,   514,  1128,  5216,    10,  1136,\n",
      "            3,     2,   139,     7,     2,    23,   432,    10,     0,  1374,\n",
      "            4,    22,  8291,    43,     5,   440,   937,  1851,     3,   869,\n",
      "        10103,     6,   939,  4340,   203,   564,   349,     4,    22,     2,\n",
      "         1564,     7,     2,    69,    30,   101,  3643,     8,    34,   703,\n",
      "        13280,     3])\n"
     ]
    }
   ],
   "source": [
    "label, indexes = train_data[0]\n",
    "\n",
    "print(indexes)"
   ]
  },
  {
   "cell_type": "code",
   "execution_count": 38,
   "metadata": {},
   "outputs": [
    {
     "name": "stdout",
     "output_type": "stream",
     "text": [
      "['david', 'mamet', 'is', 'a', 'very', 'interesting', 'and', 'a', 'very', '<unk>', 'director', '.', 'his', 'first', 'movie', \"'\", 'house', 'of', 'games', \"'\", 'was', 'the', 'one', 'i', 'liked', 'best', ',', 'and', 'it', 'set', 'a', 'series', 'of', 'films', 'with', 'characters', 'whose', 'perspective', 'of', 'life', 'changes', 'as', 'they', 'get', 'into', 'complicated', 'situations', ',', 'and', 'so', 'does', 'the', 'perspective', 'of', 'the', 'viewer', '.', 'so', 'is', \"'\", 'homicide', \"'\", 'which', 'from', 'the', 'title', 'tries', 'to', 'set', 'the', 'mind', 'of', 'the', 'viewer', 'to', 'the', 'usual', 'crime', 'drama', '.', 'the', 'principal', 'characters', 'are', 'two', 'cops', ',', 'one', 'jewish', 'and', 'one', 'irish', 'who', 'deal', 'with', 'a', 'racially', 'charged', 'area', '.', 'the', 'murder', 'of', 'an', 'old', 'jewish', 'shop', 'owner', 'who', 'proves', 'to', 'be', 'an', 'ancient', 'veteran', 'of', 'the', 'israeli', 'independence', 'war', '<unk>', 'the', 'jewish', 'identity', 'in', 'the', 'mind', 'and', 'heart', 'of', 'the', 'jewish', 'detective', '.', 'this', 'is', 'were', 'the', 'flaws', 'of', 'the', 'film', 'are', 'the', 'more', 'obvious', '.', 'the', 'process', 'of', 'awakening', 'is', 'theatrical', 'and', 'hard', 'to', 'believe', ',', 'the', 'group', 'of', 'jewish', '<unk>', 'is', 'operatic', ',', 'and', 'the', 'way', 'the', 'detective', 'eventually', 'walks', 'to', 'the', 'final', 'violent', 'confrontation', 'is', 'pathetic', '.', 'the', 'end', 'of', 'the', 'film', 'itself', 'is', '<unk>', 'smart', ',', 'but', 'disappoints', 'from', 'a', 'human', 'emotional', 'perspective', '.', 'joe', 'mantegna', 'and', 'william', 'macy', 'give', 'strong', 'performances', ',', 'but', 'the', 'flaws', 'of', 'the', 'story', 'are', 'too', 'evident', 'to', 'be', 'easily', 'compensated', '.']\n"
     ]
    }
   ],
   "source": [
    "print([vocab.itos[i] for i in indexes])"
   ]
  },
  {
   "cell_type": "code",
   "execution_count": 39,
   "metadata": {},
   "outputs": [],
   "source": [
    "valid_data = process_raw_data(raw_valid_data, tokenizer, vocab)\n",
    "test_data = process_raw_data(raw_test_data, tokenizer, vocab)"
   ]
  },
  {
   "cell_type": "code",
   "execution_count": 40,
   "metadata": {},
   "outputs": [
    {
     "name": "stdout",
     "output_type": "stream",
     "text": [
      "0\n"
     ]
    }
   ],
   "source": [
    "print(vocab['<unk'])"
   ]
  },
  {
   "cell_type": "code",
   "execution_count": 105,
   "metadata": {},
   "outputs": [],
   "source": [
    "class Collator:\n",
    "    def __init__(self, pad_idx):\n",
    "        self.pad_idx = pad_idx\n",
    "        \n",
    "    def collate(self, batch):\n",
    "        labels, text = zip(*batch)\n",
    "        \n",
    "        labels = torch.LongTensor(labels)\n",
    "        \n",
    "        text = nn.utils.rnn.pad_sequence(text, padding_value = self.pad_idx)\n",
    "        \n",
    "        return labels, text"
   ]
  },
  {
   "cell_type": "code",
   "execution_count": 107,
   "metadata": {},
   "outputs": [],
   "source": [
    "pad_token = '<pad>'\n",
    "pad_idx = vocab[pad_token]\n",
    "\n",
    "collator = Collator(pad_idx)"
   ]
  },
  {
   "cell_type": "code",
   "execution_count": 108,
   "metadata": {},
   "outputs": [],
   "source": [
    "batch_size = 256\n",
    "\n",
    "train_iterator = torch.utils.data.DataLoader(train_data,\n",
    "                                             batch_size,\n",
    "                                             shuffle = True,\n",
    "                                             collate_fn = collator.collate)\n",
    "\n",
    "valid_iterator = torch.utils.data.DataLoader(valid_data,\n",
    "                                             batch_size,\n",
    "                                             shuffle = False,\n",
    "                                             collate_fn = collator.collate)\n",
    "\n",
    "test_iterator = torch.utils.data.DataLoader(test_data,\n",
    "                                             batch_size,\n",
    "                                             shuffle = False,\n",
    "                                             collate_fn = collator.collate)"
   ]
  },
  {
   "cell_type": "code",
   "execution_count": 97,
   "metadata": {},
   "outputs": [
    {
     "data": {
      "text/plain": [
       "<torch.utils.data.dataloader.DataLoader at 0x7fb0962bb730>"
      ]
     },
     "execution_count": 97,
     "metadata": {},
     "output_type": "execute_result"
    }
   ],
   "source": [
    "train_iterator"
   ]
  },
  {
   "cell_type": "code",
   "execution_count": 98,
   "metadata": {},
   "outputs": [
    {
     "data": {
      "text/plain": [
       "69"
      ]
     },
     "execution_count": 98,
     "metadata": {},
     "output_type": "execute_result"
    }
   ],
   "source": [
    "len(train_iterator)"
   ]
  },
  {
   "cell_type": "code",
   "execution_count": 100,
   "metadata": {},
   "outputs": [
    {
     "data": {
      "text/plain": [
       "17664"
      ]
     },
     "execution_count": 100,
     "metadata": {},
     "output_type": "execute_result"
    }
   ],
   "source": [
    "69 * 256"
   ]
  },
  {
   "cell_type": "code",
   "execution_count": 47,
   "metadata": {},
   "outputs": [],
   "source": [
    "class NBOW(nn.Module):\n",
    "    def __init__(self, input_dim, emb_dim, output_dim, pad_idx):\n",
    "        super(NBOW, self).__init__()\n",
    "        \n",
    "        self.embedding = nn.Embedding(input_dim, emb_dim, padding_idx = pad_idx)\n",
    "        self.fc = nn.Linear(emb_dim, output_dim)\n",
    "        \n",
    "    def forward(self, text):\n",
    "        # text = [seq_len, batch_size]\n",
    "        embedded = self.embedding(text)\n",
    "        \n",
    "        # embedded = [seq_len, batch_size, emb_dim]\n",
    "        \n",
    "        pooled = embedded.mean(0)\n",
    "        \n",
    "        # pooled = [batch_size, emb_dim]\n",
    "        \n",
    "        prediction = self.fc(pooled)\n",
    "        \n",
    "        # prediction = [batch_size, output_dim]\n",
    "        \n",
    "        return prediction"
   ]
  },
  {
   "cell_type": "code",
   "execution_count": 48,
   "metadata": {},
   "outputs": [],
   "source": [
    "input_dim = len(vocab)"
   ]
  },
  {
   "cell_type": "code",
   "execution_count": 49,
   "metadata": {},
   "outputs": [
    {
     "data": {
      "text/plain": [
       "25002"
      ]
     },
     "execution_count": 49,
     "metadata": {},
     "output_type": "execute_result"
    }
   ],
   "source": [
    "input_dim"
   ]
  },
  {
   "cell_type": "code",
   "execution_count": 50,
   "metadata": {},
   "outputs": [],
   "source": [
    "emb_dim = 100\n",
    "output_dim = 2\n",
    "\n",
    "model = NBOW(input_dim, emb_dim, output_dim, pad_idx)"
   ]
  },
  {
   "cell_type": "code",
   "execution_count": 51,
   "metadata": {},
   "outputs": [
    {
     "data": {
      "text/plain": [
       "<bound method Module.parameters of NBOW(\n",
       "  (embedding): Embedding(25002, 100, padding_idx=1)\n",
       "  (fc): Linear(in_features=100, out_features=2, bias=True)\n",
       ")>"
      ]
     },
     "execution_count": 51,
     "metadata": {},
     "output_type": "execute_result"
    }
   ],
   "source": [
    "model.parameters"
   ]
  },
  {
   "cell_type": "code",
   "execution_count": 54,
   "metadata": {},
   "outputs": [],
   "source": [
    "def count_parameters(model):\n",
    "    return sum(p.numel() for p in model.parameters() if p.requires_grad)"
   ]
  },
  {
   "cell_type": "code",
   "execution_count": 55,
   "metadata": {},
   "outputs": [
    {
     "name": "stdout",
     "output_type": "stream",
     "text": [
      "The model has 2,500,402 trainable parameters\n"
     ]
    }
   ],
   "source": [
    "print(f'The model has {count_parameters(model):,} trainable parameters')"
   ]
  },
  {
   "cell_type": "code",
   "execution_count": 57,
   "metadata": {},
   "outputs": [
    {
     "data": {
      "text/plain": [
       "[2500200, 200, 2]"
      ]
     },
     "execution_count": 57,
     "metadata": {},
     "output_type": "execute_result"
    }
   ],
   "source": [
    "[p.numel() for p in model.parameters() if p.requires_grad]"
   ]
  },
  {
   "cell_type": "code",
   "execution_count": 66,
   "metadata": {},
   "outputs": [
    {
     "name": "stderr",
     "output_type": "stream",
     "text": [
      "glove.6B.zip: 100%|██████████| 862M/862M [1:06:41<00:00, 215kB/s]   \n"
     ]
    }
   ],
   "source": [
    "glove = torchtext.experimental.vectors.GloVe(name = '6B', dim = '100')"
   ]
  },
  {
   "cell_type": "code",
   "execution_count": 67,
   "metadata": {},
   "outputs": [
    {
     "data": {
      "text/plain": [
       "tensor([ 0.0451,  0.0083,  1.0102,  0.0388, -0.3000,  0.1082,  0.2669, -0.1797,\n",
       "         0.6793, -0.0844,  1.0620,  0.7680, -0.1149,  0.2395,  0.0772,  0.2139,\n",
       "        -0.0788,  0.4310, -0.1115,  0.6688,  0.3650,  0.6718,  0.0884,  0.6221,\n",
       "        -0.1799,  0.8679,  0.3089, -0.5903,  0.6090, -0.0580, -0.8839,  0.7195,\n",
       "         0.8916,  0.4024,  0.2230,  0.0967, -0.4288, -0.0639,  0.4010, -1.1798,\n",
       "         0.4766,  0.4740, -0.2950, -0.3705,  0.1640, -1.0603, -0.3326,  0.0624,\n",
       "         0.1529, -0.3260, -0.3132,  0.0538, -0.1375,  0.0059,  0.1142, -0.6263,\n",
       "         0.6887,  0.9929,  0.2639,  0.9296, -0.1899,  0.2262, -1.0052,  0.6435,\n",
       "         0.3932,  0.7644, -0.0143,  0.3956, -0.1160,  0.3971,  0.3830,  0.2465,\n",
       "         0.0164,  0.1025, -0.1576,  0.6056, -0.1152,  0.2444, -0.1456,  0.0602,\n",
       "         0.4137, -0.5334, -0.8109, -0.1220, -1.6253,  0.8068, -0.5653,  0.0348,\n",
       "        -0.1021,  0.1404,  0.7914, -0.3282,  0.6349,  0.7546,  0.2400, -0.2933,\n",
       "        -1.0098, -1.0907, -0.1969, -0.0303])"
      ]
     },
     "execution_count": 67,
     "metadata": {},
     "output_type": "execute_result"
    }
   ],
   "source": [
    "glove['ai']"
   ]
  },
  {
   "cell_type": "code",
   "execution_count": 68,
   "metadata": {},
   "outputs": [
    {
     "data": {
      "text/plain": [
       "100"
      ]
     },
     "execution_count": 68,
     "metadata": {},
     "output_type": "execute_result"
    }
   ],
   "source": [
    "len(glove['ai'])"
   ]
  },
  {
   "cell_type": "code",
   "execution_count": 69,
   "metadata": {},
   "outputs": [],
   "source": [
    "glove_vocab = glove.vectors.get_stoi()"
   ]
  },
  {
   "cell_type": "code",
   "execution_count": 70,
   "metadata": {},
   "outputs": [
    {
     "data": {
      "text/plain": [
       "True"
      ]
     },
     "execution_count": 70,
     "metadata": {},
     "output_type": "execute_result"
    }
   ],
   "source": [
    "'the' in glove_vocab"
   ]
  },
  {
   "cell_type": "code",
   "execution_count": 86,
   "metadata": {},
   "outputs": [],
   "source": [
    "def get_pretrained_embedding(initial_embedding, pretrained_vectors, vocab, unk_token):\n",
    "    \n",
    "    pretrained_embedding = torch.FloatTensor(initial_embedding.weight.clone()).detach()    \n",
    "    pretrained_vocab = pretrained_vectors.vectors.get_stoi()\n",
    "    \n",
    "    unk_tokens = []\n",
    "    \n",
    "    for idx, token in enumerate(vocab.itos):\n",
    "        if token in pretrained_vocab:\n",
    "            pretrained_vector = pretrained_vectors[token]\n",
    "            pretrained_embedding[idx] = pretrained_vector\n",
    "        else:\n",
    "            unk_tokens.append(token)\n",
    "        \n",
    "    return pretrained_embedding, unk_tokens"
   ]
  },
  {
   "cell_type": "code",
   "execution_count": 77,
   "metadata": {},
   "outputs": [
    {
     "name": "stdout",
     "output_type": "stream",
     "text": [
      "25002\n",
      "tensor([[-0.1117, -0.4966,  0.1631,  ...,  1.5903, -0.1947, -0.2415],\n",
      "        [ 0.0000,  0.0000,  0.0000,  ...,  0.0000,  0.0000,  0.0000],\n",
      "        [ 0.7289, -0.7336,  1.5624,  ..., -0.5592, -0.4480, -0.6476],\n",
      "        ...,\n",
      "        [ 0.0914,  1.5196,  0.4670,  ...,  0.6393, -0.0332,  0.0185],\n",
      "        [-0.6290,  0.4650, -0.7165,  ..., -1.3171,  2.0381, -2.0497],\n",
      "        [-1.1222, -0.0240, -1.0878,  ..., -0.4948, -0.3874,  0.0339]],\n",
      "       grad_fn=<SliceBackward>)\n"
     ]
    }
   ],
   "source": [
    "unk_token = '<unk>'\n",
    "# no detach\n",
    "pretrained_embedding, unk_tokens = get_pretrained_embedding(model.embedding, glove, vocab, unk_token)"
   ]
  },
  {
   "cell_type": "code",
   "execution_count": 79,
   "metadata": {},
   "outputs": [
    {
     "name": "stdout",
     "output_type": "stream",
     "text": [
      "25002\n",
      "tensor([[-0.1117, -0.4966,  0.1631,  ...,  1.5903, -0.1947, -0.2415],\n",
      "        [ 0.0000,  0.0000,  0.0000,  ...,  0.0000,  0.0000,  0.0000],\n",
      "        [ 0.7289, -0.7336,  1.5624,  ..., -0.5592, -0.4480, -0.6476],\n",
      "        ...,\n",
      "        [ 0.0914,  1.5196,  0.4670,  ...,  0.6393, -0.0332,  0.0185],\n",
      "        [-0.6290,  0.4650, -0.7165,  ..., -1.3171,  2.0381, -2.0497],\n",
      "        [-1.1222, -0.0240, -1.0878,  ..., -0.4948, -0.3874,  0.0339]])\n"
     ]
    }
   ],
   "source": [
    "unk_token = '<unk>'\n",
    "\n",
    "pretrained_embedding, unk_tokens = get_pretrained_embedding(model.embedding, glove, vocab, unk_token)"
   ]
  },
  {
   "cell_type": "code",
   "execution_count": 80,
   "metadata": {},
   "outputs": [
    {
     "data": {
      "text/plain": [
       "tensor([[-0.1117, -0.4966,  0.1631,  ...,  1.5903, -0.1947, -0.2415],\n",
       "        [ 0.0000,  0.0000,  0.0000,  ...,  0.0000,  0.0000,  0.0000],\n",
       "        [ 0.7289, -0.7336,  1.5624,  ..., -0.5592, -0.4480, -0.6476],\n",
       "        ...,\n",
       "        [ 0.0914,  1.5196,  0.4670,  ...,  0.6393, -0.0332,  0.0185],\n",
       "        [-0.6290,  0.4650, -0.7165,  ..., -1.3171,  2.0381, -2.0497],\n",
       "        [-1.1222, -0.0240, -1.0878,  ..., -0.4948, -0.3874,  0.0339]])"
      ]
     },
     "execution_count": 80,
     "metadata": {},
     "output_type": "execute_result"
    }
   ],
   "source": [
    "model.embedding.weight.data"
   ]
  },
  {
   "cell_type": "code",
   "execution_count": 88,
   "metadata": {},
   "outputs": [
    {
     "data": {
      "text/plain": [
       "678"
      ]
     },
     "execution_count": 88,
     "metadata": {},
     "output_type": "execute_result"
    }
   ],
   "source": [
    "len(unk_tokens)"
   ]
  },
  {
   "cell_type": "code",
   "execution_count": 89,
   "metadata": {},
   "outputs": [
    {
     "name": "stdout",
     "output_type": "stream",
     "text": [
      "['<unk>', '<pad>', '\\x96', 'hadn', '****', '100%', 'camera-work', '*1/2', '$1', '*****']\n"
     ]
    }
   ],
   "source": [
    "print(unk_tokens[:10])"
   ]
  },
  {
   "cell_type": "code",
   "execution_count": 91,
   "metadata": {},
   "outputs": [
    {
     "data": {
      "text/plain": [
       "tensor([[-0.1117, -0.4966,  0.1631,  ...,  1.5903, -0.1947, -0.2415],\n",
       "        [ 0.0000,  0.0000,  0.0000,  ...,  0.0000,  0.0000,  0.0000],\n",
       "        [-0.0382, -0.2449,  0.7281,  ..., -0.1459,  0.8278,  0.2706],\n",
       "        ...,\n",
       "        [-0.2925,  0.1087,  0.7920,  ..., -0.3641,  0.1822, -0.4104],\n",
       "        [-0.7250,  0.7545,  0.1637,  ..., -0.0144, -0.1761,  0.3418],\n",
       "        [ 1.1753,  0.0460, -0.3542,  ...,  0.4510,  0.0485, -0.4015]])"
      ]
     },
     "execution_count": 91,
     "metadata": {},
     "output_type": "execute_result"
    }
   ],
   "source": [
    "model.embedding.weight.data.copy_(pretrained_embedding)"
   ]
  },
  {
   "cell_type": "code",
   "execution_count": 90,
   "metadata": {},
   "outputs": [
    {
     "data": {
      "text/plain": [
       "tensor([[-0.1117, -0.4966,  0.1631,  ...,  1.5903, -0.1947, -0.2415],\n",
       "        [ 0.0000,  0.0000,  0.0000,  ...,  0.0000,  0.0000,  0.0000],\n",
       "        [-0.0382, -0.2449,  0.7281,  ..., -0.1459,  0.8278,  0.2706],\n",
       "        ...,\n",
       "        [-0.2925,  0.1087,  0.7920,  ..., -0.3641,  0.1822, -0.4104],\n",
       "        [-0.7250,  0.7545,  0.1637,  ..., -0.0144, -0.1761,  0.3418],\n",
       "        [ 1.1753,  0.0460, -0.3542,  ...,  0.4510,  0.0485, -0.4015]])"
      ]
     },
     "execution_count": 90,
     "metadata": {},
     "output_type": "execute_result"
    }
   ],
   "source": [
    "model.embedding.weight.data.copy_(pretrained_embedding)"
   ]
  },
  {
   "cell_type": "code",
   "execution_count": 92,
   "metadata": {},
   "outputs": [
    {
     "data": {
      "text/plain": [
       "torch.Size([25002, 100])"
      ]
     },
     "execution_count": 92,
     "metadata": {},
     "output_type": "execute_result"
    }
   ],
   "source": [
    "model.embedding.weight.shape"
   ]
  },
  {
   "cell_type": "code",
   "execution_count": 93,
   "metadata": {},
   "outputs": [],
   "source": [
    "optimizer = optim.Adam(model.parameters())"
   ]
  },
  {
   "cell_type": "code",
   "execution_count": 94,
   "metadata": {},
   "outputs": [],
   "source": [
    "criterion = nn.CrossEntropyLoss()"
   ]
  },
  {
   "cell_type": "code",
   "execution_count": 95,
   "metadata": {},
   "outputs": [
    {
     "name": "stdout",
     "output_type": "stream",
     "text": [
      "Using: cpu\n"
     ]
    }
   ],
   "source": [
    "device = torch.device('cuda' if torch.cuda.is_available() else 'cpu')\n",
    "\n",
    "print(f'Using: {device}')"
   ]
  },
  {
   "cell_type": "code",
   "execution_count": 96,
   "metadata": {},
   "outputs": [],
   "source": [
    "def calculate_accuracy(predictions, labels):\n",
    "    top_predictions = predictions.argmax(1, keepdim = True)\n",
    "    correct = top_predictions.eq(labels.view_as(top_predictions)).sum()\n",
    "    accuracy = correct.float() / labels.shape[0]\n",
    "    return accuracy"
   ]
  },
  {
   "cell_type": "code",
   "execution_count": 101,
   "metadata": {},
   "outputs": [],
   "source": [
    "def train(model, iterator, optimizer, criterion, device):\n",
    "    epoch_loss = 0\n",
    "    epoch_acc = 0\n",
    "    \n",
    "    model.train()\n",
    "    \n",
    "    for labels, text in iterator:\n",
    "        \n",
    "        labels = labels.to(device)\n",
    "        text = text.to(device)\n",
    "        \n",
    "        optimizer.zero_grad()\n",
    "        \n",
    "        predictions = model(text)\n",
    "        loss = criterion(predictions, labels)\n",
    "        \n",
    "        acc = calculate_accuracy(predictions, labels)\n",
    "        \n",
    "        loss.backward()\n",
    "        \n",
    "        optimizer.step()\n",
    "        \n",
    "        epoch_loss += loss.item()\n",
    "        epoch_acc += acc.item()\n",
    "        \n",
    "    return epoch_loss / len(iterator), epoch_acc / len(iterator)"
   ]
  },
  {
   "cell_type": "code",
   "execution_count": 102,
   "metadata": {},
   "outputs": [],
   "source": [
    "def evaluate(model, iterator, criterion, device):\n",
    "    \n",
    "    epoch_loss = 0\n",
    "    epoch_acc = 0\n",
    "    \n",
    "    model.eval()\n",
    "    \n",
    "    with torch.no_grad():\n",
    "    \n",
    "        for labels, text in iterator:\n",
    "\n",
    "            labels = labels.to(device)\n",
    "            text = text.to(device)\n",
    "            \n",
    "            predictions = model(text)\n",
    "            \n",
    "            loss = criterion(predictions, labels)\n",
    "            \n",
    "            acc = calculate_accuracy(predictions, labels)\n",
    "\n",
    "            epoch_loss += loss.item()\n",
    "            epoch_acc += acc.item()\n",
    "        \n",
    "    return epoch_loss / len(iterator), epoch_acc / len(iterator)"
   ]
  },
  {
   "cell_type": "code",
   "execution_count": 103,
   "metadata": {},
   "outputs": [],
   "source": [
    "def epoch_time(start_time, end_time):\n",
    "    elapsed_time = end_time - start_time\n",
    "    elapsed_mins = int(elapsed_time / 60)\n",
    "    elapsed_secs = int(elapsed_time - (elapsed_mins * 60))\n",
    "    return elapsed_mins, elapsed_secs"
   ]
  },
  {
   "cell_type": "code",
   "execution_count": 109,
   "metadata": {},
   "outputs": [
    {
     "name": "stdout",
     "output_type": "stream",
     "text": [
      "Epoch: 01 | Epoch Time: 0m 20s\n",
      "\tTrain Loss: 0.687 | Train Acc: 55.50%\n",
      "\t Val. Loss: 0.678 |  Val. Acc: 63.46%\n",
      "Epoch: 02 | Epoch Time: 0m 21s\n",
      "\tTrain Loss: 0.666 | Train Acc: 65.38%\n",
      "\t Val. Loss: 0.652 |  Val. Acc: 69.54%\n",
      "Epoch: 03 | Epoch Time: 0m 20s\n",
      "\tTrain Loss: 0.631 | Train Acc: 72.05%\n",
      "\t Val. Loss: 0.613 |  Val. Acc: 73.82%\n",
      "Epoch: 04 | Epoch Time: 0m 19s\n",
      "\tTrain Loss: 0.585 | Train Acc: 76.32%\n",
      "\t Val. Loss: 0.568 |  Val. Acc: 76.86%\n",
      "Epoch: 05 | Epoch Time: 0m 20s\n",
      "\tTrain Loss: 0.533 | Train Acc: 80.33%\n",
      "\t Val. Loss: 0.522 |  Val. Acc: 80.11%\n",
      "Epoch: 06 | Epoch Time: 0m 19s\n",
      "\tTrain Loss: 0.484 | Train Acc: 83.33%\n",
      "\t Val. Loss: 0.480 |  Val. Acc: 82.45%\n",
      "Epoch: 07 | Epoch Time: 0m 19s\n",
      "\tTrain Loss: 0.438 | Train Acc: 85.67%\n",
      "\t Val. Loss: 0.442 |  Val. Acc: 84.57%\n",
      "Epoch: 08 | Epoch Time: 0m 19s\n",
      "\tTrain Loss: 0.399 | Train Acc: 87.28%\n",
      "\t Val. Loss: 0.413 |  Val. Acc: 85.63%\n",
      "Epoch: 09 | Epoch Time: 0m 20s\n",
      "\tTrain Loss: 0.366 | Train Acc: 88.44%\n",
      "\t Val. Loss: 0.388 |  Val. Acc: 86.46%\n",
      "Epoch: 10 | Epoch Time: 0m 19s\n",
      "\tTrain Loss: 0.339 | Train Acc: 89.32%\n",
      "\t Val. Loss: 0.369 |  Val. Acc: 87.07%\n"
     ]
    }
   ],
   "source": [
    "n_epochs = 10\n",
    "\n",
    "best_valid_loss = float('inf')\n",
    "\n",
    "for epoch in range(n_epochs):\n",
    "\n",
    "    start_time = time.monotonic()\n",
    "    \n",
    "    train_loss, train_acc = train(model, train_iterator, optimizer, criterion, device)\n",
    "    valid_loss, valid_acc = evaluate(model, valid_iterator, criterion, device)\n",
    "    \n",
    "    end_time = time.monotonic()\n",
    "\n",
    "    epoch_mins, epoch_secs = epoch_time(start_time, end_time)\n",
    "    \n",
    "    if valid_loss < best_valid_loss:\n",
    "        best_valid_loss = valid_loss\n",
    "        torch.save(model.state_dict(), 'nbow-model.pt')\n",
    "    \n",
    "    print(f'Epoch: {epoch+1:02} | Epoch Time: {epoch_mins}m {epoch_secs}s')\n",
    "    print(f'\\tTrain Loss: {train_loss:.3f} | Train Acc: {train_acc*100:.2f}%')\n",
    "    print(f'\\t Val. Loss: {valid_loss:.3f} |  Val. Acc: {valid_acc*100:.2f}%')"
   ]
  },
  {
   "cell_type": "code",
   "execution_count": 110,
   "metadata": {},
   "outputs": [
    {
     "name": "stdout",
     "output_type": "stream",
     "text": [
      "Test Loss: 0.390 | Test Acc: 85.64%\n"
     ]
    }
   ],
   "source": [
    "model.load_state_dict(torch.load('nbow-model.pt'))\n",
    "\n",
    "test_loss, test_acc = evaluate(model, test_iterator, criterion, device)\n",
    "\n",
    "print(f'Test Loss: {test_loss:.3f} | Test Acc: {test_acc*100:.2f}%')"
   ]
  },
  {
   "cell_type": "code",
   "execution_count": 111,
   "metadata": {},
   "outputs": [],
   "source": [
    "def predict_sentiment(tokenizer, vocab, model, device, sentence):\n",
    "    model.eval()\n",
    "    tokens = tokenizer.tokenize(sentence)\n",
    "    indexes = [vocab.stoi[token] for token in tokens]\n",
    "    tensor = torch.LongTensor(indexes).unsqueeze(-1).to(device)\n",
    "    prediction = model(tensor)\n",
    "    probabilities = nn.functional.softmax(prediction, dim = -1)\n",
    "    pos_probability = probabilities.squeeze()[-1].item()\n",
    "    return pos_probability"
   ]
  },
  {
   "cell_type": "code",
   "execution_count": 112,
   "metadata": {},
   "outputs": [
    {
     "data": {
      "text/plain": [
       "1.091639387595933e-05"
      ]
     },
     "execution_count": 112,
     "metadata": {},
     "output_type": "execute_result"
    }
   ],
   "source": [
    "sentence = 'the absolute worst movie of all time.'\n",
    "\n",
    "predict_sentiment(tokenizer, vocab, model, device, sentence)"
   ]
  },
  {
   "cell_type": "code",
   "execution_count": 113,
   "metadata": {},
   "outputs": [
    {
     "data": {
      "text/plain": [
       "0.9999977350234985"
      ]
     },
     "execution_count": 113,
     "metadata": {},
     "output_type": "execute_result"
    }
   ],
   "source": [
    "sentence = 'one of the greatest films i have ever seen in my life.'\n",
    "\n",
    "predict_sentiment(tokenizer, vocab, model, device, sentence)"
   ]
  },
  {
   "cell_type": "code",
   "execution_count": 114,
   "metadata": {},
   "outputs": [
    {
     "data": {
      "text/plain": [
       "0.7893003225326538"
      ]
     },
     "execution_count": 114,
     "metadata": {},
     "output_type": "execute_result"
    }
   ],
   "source": [
    "sentence = \"i thought it was going to be one of the greatest films i have ever seen in my life, \\\n",
    "but it was actually the absolute worst movie of all time.\"\n",
    "\n",
    "predict_sentiment(tokenizer, vocab, model, device, sentence)"
   ]
  },
  {
   "cell_type": "code",
   "execution_count": 115,
   "metadata": {},
   "outputs": [
    {
     "data": {
      "text/plain": [
       "0.7893003225326538"
      ]
     },
     "execution_count": 115,
     "metadata": {},
     "output_type": "execute_result"
    }
   ],
   "source": [
    "sentence = \"i thought it was going to be the absolute worst movie of all time, \\\n",
    "but it was actually one of the greatest films i have ever seen in my life.\"\n",
    "\n",
    "predict_sentiment(tokenizer, vocab, model, device, sentence)"
   ]
  },
  {
   "cell_type": "code",
   "execution_count": null,
   "metadata": {},
   "outputs": [],
   "source": []
  }
 ],
 "metadata": {
  "kernelspec": {
   "display_name": "dl",
   "language": "python",
   "name": "dl"
  },
  "language_info": {
   "codemirror_mode": {
    "name": "ipython",
    "version": 3
   },
   "file_extension": ".py",
   "mimetype": "text/x-python",
   "name": "python",
   "nbconvert_exporter": "python",
   "pygments_lexer": "ipython3",
   "version": "3.8.5"
  }
 },
 "nbformat": 4,
 "nbformat_minor": 4
}
